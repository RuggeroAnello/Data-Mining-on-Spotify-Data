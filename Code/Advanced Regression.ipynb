{
 "cells": [
  {
   "cell_type": "markdown",
   "id": "7460a6b6-4194-4b8e-bbb3-6896d0c5ebc7",
   "metadata": {},
   "source": [
    "# Advanced Regression task: Predicting track \"popularity\" "
   ]
  },
  {
   "cell_type": "code",
   "execution_count": 1,
   "id": "fe186494-01c6-4808-80c1-05dec13b4658",
   "metadata": {},
   "outputs": [],
   "source": [
    "import pandas as pd\n",
    "import numpy as np\n",
    "import matplotlib.pylab as plt \n",
    "import seaborn as sns\n",
    "from sklearn.preprocessing import StandardScaler\n",
    "from sklearn.model_selection import train_test_split, cross_val_score \n",
    "from sklearn.metrics import accuracy_score, f1_score, classification_report\n",
    "from sklearn.preprocessing import OneHotEncoder\n",
    "from sklearn.model_selection import train_test_split, cross_val_score \n",
    "from sklearn.metrics import accuracy_score, f1_score, classification_report\n",
    "from sklearn.metrics import roc_curve, auc, roc_auc_score\n",
    "from xgboost import XGBRegressor\n",
    "from sklearn.metrics import mean_squared_error, r2_score\n",
    "from sklearn.ensemble import RandomForestRegressor, RandomForestClassifier"
   ]
  },
  {
   "cell_type": "code",
   "execution_count": 2,
   "id": "5596eb62-c8e3-4d59-aaf1-e0f132cd8dbd",
   "metadata": {},
   "outputs": [],
   "source": [
    "# Importing the cleaning dataset\n",
    "df_imported = pd.read_csv(r\"\\final_clean_dataset.csv\")\n",
    "\n",
    "\n",
    "genres = df_imported['genre'].unique()\n",
    "mapping_genres = {}\n",
    "\n",
    "i= 1\n",
    "# mapping genre\n",
    "for element in genres:\n",
    "    mapping_genres[element] = i\n",
    "    i+=1\n",
    "\n",
    "df_imported['genre'] = df_imported['genre'].map(mapping_genres)\n",
    "\n",
    "data = ['duration_ms','danceability',\n",
    "       'energy', 'speechiness', 'instrumentalness', 'liveness', 'valence',\n",
    "        'n_beats', 'fade_out_duration',\n",
    "       'primary_artist_popularity', 'average_artists_popularity',\n",
    "       'sum_of_followers', 'genre',\n",
    " 'explicit', 'time_signature']\n",
    "# 'explicit', 'time_signature --> Are considered not important from the regressor\n",
    "\n",
    "\n",
    "df = df_imported[data].copy()"
   ]
  },
  {
   "cell_type": "markdown",
   "id": "58d453bd",
   "metadata": {},
   "source": [
    "##### Different subsets we will utilize"
   ]
  },
  {
   "cell_type": "code",
   "execution_count": 4,
   "id": "cb4d6b09-177a-4dfd-a2d9-c7d337f7be25",
   "metadata": {},
   "outputs": [],
   "source": [
    "X = df[data].values\n",
    "y = np.array(df_imported['popularity'])"
   ]
  },
  {
   "cell_type": "code",
   "execution_count": 5,
   "id": "a4c12d93-b203-43b7-a754-fa9324d850ca",
   "metadata": {},
   "outputs": [],
   "source": [
    "X_train, X_test, y_train, y_test = train_test_split(X, y, test_size=0.3, random_state=42)\n",
    "X_test_new, X_val, y_test_new, y_val = train_test_split(X_test, y_test, test_size=0.8, random_state=42)"
   ]
  },
  {
   "cell_type": "code",
   "execution_count": 6,
   "id": "d2f60ece-f734-449a-8769-31d129d8c8eb",
   "metadata": {},
   "outputs": [],
   "source": [
    "X_5 = df_imported[['average_artists_popularity',\n",
    "       'sum_of_followers', 'genre','energy', 'danceability',]].values\n",
    "y_5 = np.array(df_imported['popularity'])"
   ]
  },
  {
   "cell_type": "code",
   "execution_count": 7,
   "id": "47614b0b-2d05-4033-adfb-0292ca130203",
   "metadata": {},
   "outputs": [],
   "source": [
    "X_train_5, X_test_5, y_train_5, y_test_5 = train_test_split(X_5, y_5, test_size=0.3, random_state=42)\n",
    "X_test_new_5, X_val_5, y_test_new_5, y_val_5 = train_test_split(X_test_5, y_test_5, test_size=0.8, random_state=42)"
   ]
  },
  {
   "cell_type": "code",
   "execution_count": 8,
   "id": "c6743e82-15fb-499d-aa41-35d1b32ca455",
   "metadata": {},
   "outputs": [],
   "source": [
    "X_3 = df_imported[['average_artists_popularity',\n",
    "       'sum_of_followers', 'genre']].values\n",
    "y_3 = np.array(df_imported['popularity'])"
   ]
  },
  {
   "cell_type": "code",
   "execution_count": 9,
   "id": "a23345d7-87a0-4495-87d8-8a95c34c11dd",
   "metadata": {},
   "outputs": [],
   "source": [
    "X_train_3, X_test_3, y_train_3, y_test_3= train_test_split(X_3, y_3, test_size=0.3, random_state=42)\n",
    "X_test_new_3, X_val_3, y_test_new_3, y_val_3 = train_test_split(X_test_3, y_test_3, test_size=0.8, random_state=42)"
   ]
  },
  {
   "cell_type": "markdown",
   "id": "c4fa913f-fa25-4c41-a1d4-d00d0b646a8e",
   "metadata": {},
   "source": [
    "### Random Forest regression (Bagging)"
   ]
  },
  {
   "cell_type": "markdown",
   "id": "ec7e74b9-7fed-44aa-878f-19471428ab7e",
   "metadata": {},
   "source": [
    "Evaluation\n",
    "Root Mean Squared Error (RMSE)\n",
    "Submissions are scored on the root mean squared error. RMSE is very common and is a suitable general-purpose error metric. Compared to the Mean Absolute Error, RMSE punishes large errors:\n",
    "\n",
    "RMSE=√1n∑i=1n(yi−y^i)2,\n",
    "where y hat is the predicted value and y is the original value."
   ]
  },
  {
   "cell_type": "markdown",
   "id": "3d17609e-9e8d-45e3-a16a-4493dcd6d8b5",
   "metadata": {},
   "source": [
    "## Selecting best features"
   ]
  },
  {
   "cell_type": "code",
   "execution_count": 8,
   "id": "36702448-13cb-4b8f-a0ff-e3676bffec10",
   "metadata": {},
   "outputs": [],
   "source": [
    "X_f, y_f = df.iloc[:, 1:15].values, df_imported['popularity'].values\n",
    "\n",
    "\n",
    "X_trainForBestFeatures, X_testForBestFeatures, y_trainForBestFeatures, y_testForBestFeatures = train_test_split(\n",
    "    X, y, \n",
    "    test_size=0.3, \n",
    "    random_state=0,\n",
    ")\n"
   ]
  },
  {
   "cell_type": "markdown",
   "id": "a4de8d61-8f0d-49cb-9243-93c6bd99860e",
   "metadata": {},
   "source": [
    "For finding best features among others. We used random forest classifier in order to get the best features. "
   ]
  },
  {
   "cell_type": "code",
   "execution_count": 19,
   "id": "1454ccfd-e2aa-4c97-be18-98d57fb591b0",
   "metadata": {
    "scrolled": true
   },
   "outputs": [
    {
     "name": "stdout",
     "output_type": "stream",
     "text": [
      "building tree 1 of 500\n",
      "building tree 2 of 500\n",
      "building tree 3 of 500\n",
      "building tree 4 of 500\n",
      "building tree 5 of 500\n",
      "building tree 6 of 500\n",
      "building tree 7 of 500\n",
      "building tree 8 of 500\n",
      "building tree 9 of 500\n",
      "building tree 10 of 500\n",
      "building tree 11 of 500\n",
      "building tree 12 of 500\n",
      "building tree 13 of 500\n",
      "building tree 14 of 500\n",
      "building tree 15 of 500\n",
      "building tree 16 of 500\n",
      "building tree 17 of 500\n",
      "building tree 18 of 500\n",
      "building tree 19 of 500\n",
      "building tree 20 of 500\n",
      "building tree 21 of 500\n",
      "building tree 22 of 500\n",
      "building tree 23 of 500\n",
      "building tree 24 of 500\n",
      "building tree 25 of 500\n",
      "building tree 26 of 500\n",
      "building tree 27 of 500\n",
      "building tree 28 of 500\n",
      "building tree 29 of 500\n",
      "building tree 30 of 500\n",
      "building tree 31 of 500\n",
      "building tree 32 of 500\n",
      "building tree 33 of 500\n",
      "building tree 34 of 500\n",
      "building tree 35 of 500\n",
      "building tree 36 of 500\n",
      "building tree 37 of 500\n",
      "building tree 38 of 500\n",
      "building tree 39 of 500\n",
      "building tree 40 of 500\n"
     ]
    },
    {
     "name": "stderr",
     "output_type": "stream",
     "text": [
      "[Parallel(n_jobs=1)]: Done  40 tasks      | elapsed:   31.1s\n"
     ]
    },
    {
     "name": "stdout",
     "output_type": "stream",
     "text": [
      "building tree 41 of 500\n",
      "building tree 42 of 500\n",
      "building tree 43 of 500\n",
      "building tree 44 of 500\n",
      "building tree 45 of 500\n",
      "building tree 46 of 500\n",
      "building tree 47 of 500\n",
      "building tree 48 of 500\n",
      "building tree 49 of 500\n",
      "building tree 50 of 500\n",
      "building tree 51 of 500\n",
      "building tree 52 of 500\n",
      "building tree 53 of 500\n",
      "building tree 54 of 500\n",
      "building tree 55 of 500\n",
      "building tree 56 of 500\n",
      "building tree 57 of 500\n",
      "building tree 58 of 500\n",
      "building tree 59 of 500\n",
      "building tree 60 of 500\n",
      "building tree 61 of 500\n",
      "building tree 62 of 500\n",
      "building tree 63 of 500\n",
      "building tree 64 of 500\n",
      "building tree 65 of 500\n",
      "building tree 66 of 500\n",
      "building tree 67 of 500\n",
      "building tree 68 of 500\n",
      "building tree 69 of 500\n",
      "building tree 70 of 500\n",
      "building tree 71 of 500\n",
      "building tree 72 of 500\n",
      "building tree 73 of 500\n",
      "building tree 74 of 500\n",
      "building tree 75 of 500\n",
      "building tree 76 of 500\n",
      "building tree 77 of 500\n",
      "building tree 78 of 500\n",
      "building tree 79 of 500\n",
      "building tree 80 of 500\n",
      "building tree 81 of 500\n",
      "building tree 82 of 500\n",
      "building tree 83 of 500\n",
      "building tree 84 of 500\n",
      "building tree 85 of 500\n",
      "building tree 86 of 500\n",
      "building tree 87 of 500\n",
      "building tree 88 of 500\n",
      "building tree 89 of 500\n",
      "building tree 90 of 500\n",
      "building tree 91 of 500\n",
      "building tree 92 of 500\n",
      "building tree 93 of 500\n",
      "building tree 94 of 500\n",
      "building tree 95 of 500\n",
      "building tree 96 of 500\n",
      "building tree 97 of 500\n",
      "building tree 98 of 500\n",
      "building tree 99 of 500\n",
      "building tree 100 of 500\n",
      "building tree 101 of 500\n",
      "building tree 102 of 500\n",
      "building tree 103 of 500\n",
      "building tree 104 of 500\n",
      "building tree 105 of 500\n",
      "building tree 106 of 500\n",
      "building tree 107 of 500\n",
      "building tree 108 of 500\n",
      "building tree 109 of 500\n",
      "building tree 110 of 500\n",
      "building tree 111 of 500\n",
      "building tree 112 of 500\n",
      "building tree 113 of 500\n",
      "building tree 114 of 500\n",
      "building tree 115 of 500\n",
      "building tree 116 of 500\n",
      "building tree 117 of 500\n",
      "building tree 118 of 500\n",
      "building tree 119 of 500\n",
      "building tree 120 of 500\n",
      "building tree 121 of 500\n",
      "building tree 122 of 500\n",
      "building tree 123 of 500\n",
      "building tree 124 of 500\n",
      "building tree 125 of 500\n",
      "building tree 126 of 500\n",
      "building tree 127 of 500\n",
      "building tree 128 of 500\n",
      "building tree 129 of 500\n",
      "building tree 130 of 500\n",
      "building tree 131 of 500\n",
      "building tree 132 of 500\n",
      "building tree 133 of 500\n",
      "building tree 134 of 500\n",
      "building tree 135 of 500\n",
      "building tree 136 of 500\n",
      "building tree 137 of 500\n",
      "building tree 138 of 500\n",
      "building tree 139 of 500\n",
      "building tree 140 of 500\n",
      "building tree 141 of 500\n",
      "building tree 142 of 500\n",
      "building tree 143 of 500\n",
      "building tree 144 of 500\n",
      "building tree 145 of 500\n",
      "building tree 146 of 500\n",
      "building tree 147 of 500\n",
      "building tree 148 of 500\n",
      "building tree 149 of 500\n",
      "building tree 150 of 500\n",
      "building tree 151 of 500\n",
      "building tree 152 of 500\n",
      "building tree 153 of 500\n",
      "building tree 154 of 500\n",
      "building tree 155 of 500\n",
      "building tree 156 of 500\n",
      "building tree 157 of 500\n",
      "building tree 158 of 500\n",
      "building tree 159 of 500\n",
      "building tree 160 of 500\n",
      "building tree 161 of 500\n"
     ]
    },
    {
     "name": "stderr",
     "output_type": "stream",
     "text": [
      "[Parallel(n_jobs=1)]: Done 161 tasks      | elapsed:  2.2min\n"
     ]
    },
    {
     "name": "stdout",
     "output_type": "stream",
     "text": [
      "building tree 162 of 500\n",
      "building tree 163 of 500\n",
      "building tree 164 of 500\n",
      "building tree 165 of 500\n",
      "building tree 166 of 500\n",
      "building tree 167 of 500\n",
      "building tree 168 of 500\n",
      "building tree 169 of 500\n",
      "building tree 170 of 500\n",
      "building tree 171 of 500\n",
      "building tree 172 of 500\n",
      "building tree 173 of 500\n",
      "building tree 174 of 500\n",
      "building tree 175 of 500\n",
      "building tree 176 of 500\n",
      "building tree 177 of 500\n",
      "building tree 178 of 500\n",
      "building tree 179 of 500\n",
      "building tree 180 of 500\n",
      "building tree 181 of 500\n",
      "building tree 182 of 500\n",
      "building tree 183 of 500\n",
      "building tree 184 of 500\n",
      "building tree 185 of 500\n",
      "building tree 186 of 500\n",
      "building tree 187 of 500\n",
      "building tree 188 of 500\n",
      "building tree 189 of 500\n",
      "building tree 190 of 500\n",
      "building tree 191 of 500\n",
      "building tree 192 of 500\n",
      "building tree 193 of 500\n",
      "building tree 194 of 500\n",
      "building tree 195 of 500\n",
      "building tree 196 of 500\n",
      "building tree 197 of 500\n",
      "building tree 198 of 500\n",
      "building tree 199 of 500\n",
      "building tree 200 of 500\n",
      "building tree 201 of 500\n",
      "building tree 202 of 500\n",
      "building tree 203 of 500\n",
      "building tree 204 of 500\n",
      "building tree 205 of 500\n",
      "building tree 206 of 500\n",
      "building tree 207 of 500\n",
      "building tree 208 of 500\n",
      "building tree 209 of 500\n",
      "building tree 210 of 500\n",
      "building tree 211 of 500\n",
      "building tree 212 of 500\n",
      "building tree 213 of 500\n",
      "building tree 214 of 500\n",
      "building tree 215 of 500\n",
      "building tree 216 of 500\n",
      "building tree 217 of 500\n",
      "building tree 218 of 500\n",
      "building tree 219 of 500\n",
      "building tree 220 of 500\n",
      "building tree 221 of 500\n",
      "building tree 222 of 500\n",
      "building tree 223 of 500\n",
      "building tree 224 of 500\n",
      "building tree 225 of 500\n",
      "building tree 226 of 500\n",
      "building tree 227 of 500\n",
      "building tree 228 of 500\n",
      "building tree 229 of 500\n",
      "building tree 230 of 500\n",
      "building tree 231 of 500\n",
      "building tree 232 of 500\n",
      "building tree 233 of 500\n",
      "building tree 234 of 500\n",
      "building tree 235 of 500\n",
      "building tree 236 of 500\n",
      "building tree 237 of 500\n",
      "building tree 238 of 500\n",
      "building tree 239 of 500\n",
      "building tree 240 of 500\n",
      "building tree 241 of 500\n",
      "building tree 242 of 500\n",
      "building tree 243 of 500\n",
      "building tree 244 of 500\n",
      "building tree 245 of 500\n",
      "building tree 246 of 500\n",
      "building tree 247 of 500\n",
      "building tree 248 of 500\n",
      "building tree 249 of 500\n",
      "building tree 250 of 500\n",
      "building tree 251 of 500\n",
      "building tree 252 of 500\n",
      "building tree 253 of 500\n",
      "building tree 254 of 500\n",
      "building tree 255 of 500\n",
      "building tree 256 of 500\n",
      "building tree 257 of 500\n",
      "building tree 258 of 500\n",
      "building tree 259 of 500\n",
      "building tree 260 of 500\n",
      "building tree 261 of 500\n",
      "building tree 262 of 500\n",
      "building tree 263 of 500\n",
      "building tree 264 of 500\n",
      "building tree 265 of 500\n",
      "building tree 266 of 500\n",
      "building tree 267 of 500\n",
      "building tree 268 of 500\n",
      "building tree 269 of 500\n",
      "building tree 270 of 500\n",
      "building tree 271 of 500\n",
      "building tree 272 of 500\n",
      "building tree 273 of 500\n",
      "building tree 274 of 500\n",
      "building tree 275 of 500\n",
      "building tree 276 of 500\n",
      "building tree 277 of 500\n",
      "building tree 278 of 500\n",
      "building tree 279 of 500\n",
      "building tree 280 of 500\n",
      "building tree 281 of 500\n",
      "building tree 282 of 500\n",
      "building tree 283 of 500\n",
      "building tree 284 of 500\n",
      "building tree 285 of 500\n",
      "building tree 286 of 500\n",
      "building tree 287 of 500\n",
      "building tree 288 of 500\n",
      "building tree 289 of 500\n",
      "building tree 290 of 500\n",
      "building tree 291 of 500\n",
      "building tree 292 of 500\n",
      "building tree 293 of 500\n",
      "building tree 294 of 500\n",
      "building tree 295 of 500\n",
      "building tree 296 of 500\n",
      "building tree 297 of 500\n",
      "building tree 298 of 500\n",
      "building tree 299 of 500\n",
      "building tree 300 of 500\n",
      "building tree 301 of 500\n",
      "building tree 302 of 500\n",
      "building tree 303 of 500\n",
      "building tree 304 of 500\n",
      "building tree 305 of 500\n",
      "building tree 306 of 500\n",
      "building tree 307 of 500\n",
      "building tree 308 of 500\n",
      "building tree 309 of 500\n",
      "building tree 310 of 500\n",
      "building tree 311 of 500\n",
      "building tree 312 of 500\n",
      "building tree 313 of 500\n",
      "building tree 314 of 500\n",
      "building tree 315 of 500\n",
      "building tree 316 of 500\n",
      "building tree 317 of 500\n",
      "building tree 318 of 500\n",
      "building tree 319 of 500\n",
      "building tree 320 of 500\n",
      "building tree 321 of 500\n",
      "building tree 322 of 500\n",
      "building tree 323 of 500\n",
      "building tree 324 of 500\n",
      "building tree 325 of 500\n",
      "building tree 326 of 500\n",
      "building tree 327 of 500\n",
      "building tree 328 of 500\n",
      "building tree 329 of 500\n",
      "building tree 330 of 500\n",
      "building tree 331 of 500\n",
      "building tree 332 of 500\n",
      "building tree 333 of 500\n",
      "building tree 334 of 500\n",
      "building tree 335 of 500\n",
      "building tree 336 of 500\n",
      "building tree 337 of 500\n",
      "building tree 338 of 500\n",
      "building tree 339 of 500\n",
      "building tree 340 of 500\n",
      "building tree 341 of 500\n",
      "building tree 342 of 500\n",
      "building tree 343 of 500\n",
      "building tree 344 of 500\n",
      "building tree 345 of 500\n",
      "building tree 346 of 500\n",
      "building tree 347 of 500\n",
      "building tree 348 of 500\n",
      "building tree 349 of 500\n",
      "building tree 350 of 500\n",
      "building tree 351 of 500\n",
      "building tree 352 of 500\n",
      "building tree 353 of 500\n",
      "building tree 354 of 500\n",
      "building tree 355 of 500\n",
      "building tree 356 of 500\n",
      "building tree 357 of 500\n",
      "building tree 358 of 500\n",
      "building tree 359 of 500\n",
      "building tree 360 of 500\n",
      "building tree 361 of 500\n",
      "building tree 362 of 500\n",
      "building tree 363 of 500\n",
      "building tree 364 of 500\n"
     ]
    },
    {
     "name": "stderr",
     "output_type": "stream",
     "text": [
      "[Parallel(n_jobs=1)]: Done 364 tasks      | elapsed:  4.9min\n"
     ]
    },
    {
     "name": "stdout",
     "output_type": "stream",
     "text": [
      "building tree 365 of 500\n",
      "building tree 366 of 500\n",
      "building tree 367 of 500\n",
      "building tree 368 of 500\n",
      "building tree 369 of 500\n",
      "building tree 370 of 500\n",
      "building tree 371 of 500\n",
      "building tree 372 of 500\n",
      "building tree 373 of 500\n",
      "building tree 374 of 500\n",
      "building tree 375 of 500\n",
      "building tree 376 of 500\n",
      "building tree 377 of 500\n",
      "building tree 378 of 500\n",
      "building tree 379 of 500\n",
      "building tree 380 of 500\n",
      "building tree 381 of 500\n",
      "building tree 382 of 500\n",
      "building tree 383 of 500\n",
      "building tree 384 of 500\n",
      "building tree 385 of 500\n",
      "building tree 386 of 500\n",
      "building tree 387 of 500\n",
      "building tree 388 of 500\n",
      "building tree 389 of 500\n",
      "building tree 390 of 500\n",
      "building tree 391 of 500\n",
      "building tree 392 of 500\n",
      "building tree 393 of 500\n",
      "building tree 394 of 500\n",
      "building tree 395 of 500\n",
      "building tree 396 of 500\n",
      "building tree 397 of 500\n",
      "building tree 398 of 500\n",
      "building tree 399 of 500\n",
      "building tree 400 of 500\n",
      "building tree 401 of 500\n",
      "building tree 402 of 500\n",
      "building tree 403 of 500\n",
      "building tree 404 of 500\n",
      "building tree 405 of 500\n",
      "building tree 406 of 500\n",
      "building tree 407 of 500\n",
      "building tree 408 of 500\n",
      "building tree 409 of 500\n",
      "building tree 410 of 500\n",
      "building tree 411 of 500\n",
      "building tree 412 of 500\n",
      "building tree 413 of 500\n",
      "building tree 414 of 500\n",
      "building tree 415 of 500\n",
      "building tree 416 of 500\n",
      "building tree 417 of 500\n",
      "building tree 418 of 500\n",
      "building tree 419 of 500\n",
      "building tree 420 of 500\n",
      "building tree 421 of 500\n",
      "building tree 422 of 500\n",
      "building tree 423 of 500\n",
      "building tree 424 of 500\n",
      "building tree 425 of 500\n",
      "building tree 426 of 500\n",
      "building tree 427 of 500\n",
      "building tree 428 of 500\n",
      "building tree 429 of 500\n",
      "building tree 430 of 500\n",
      "building tree 431 of 500\n",
      "building tree 432 of 500\n",
      "building tree 433 of 500\n",
      "building tree 434 of 500\n",
      "building tree 435 of 500\n",
      "building tree 436 of 500\n",
      "building tree 437 of 500\n",
      "building tree 438 of 500\n",
      "building tree 439 of 500\n",
      "building tree 440 of 500\n",
      "building tree 441 of 500\n",
      "building tree 442 of 500\n",
      "building tree 443 of 500\n",
      "building tree 444 of 500\n",
      "building tree 445 of 500\n",
      "building tree 446 of 500\n",
      "building tree 447 of 500\n",
      "building tree 448 of 500\n",
      "building tree 449 of 500\n",
      "building tree 450 of 500\n",
      "building tree 451 of 500\n",
      "building tree 452 of 500\n",
      "building tree 453 of 500\n",
      "building tree 454 of 500\n",
      "building tree 455 of 500\n",
      "building tree 456 of 500\n",
      "building tree 457 of 500\n",
      "building tree 458 of 500\n",
      "building tree 459 of 500\n",
      "building tree 460 of 500\n",
      "building tree 461 of 500\n",
      "building tree 462 of 500\n",
      "building tree 463 of 500\n",
      "building tree 464 of 500\n",
      "building tree 465 of 500\n",
      "building tree 466 of 500\n",
      "building tree 467 of 500\n",
      "building tree 468 of 500\n",
      "building tree 469 of 500\n",
      "building tree 470 of 500\n",
      "building tree 471 of 500\n",
      "building tree 472 of 500\n",
      "building tree 473 of 500\n",
      "building tree 474 of 500\n",
      "building tree 475 of 500\n",
      "building tree 476 of 500\n",
      "building tree 477 of 500\n",
      "building tree 478 of 500\n",
      "building tree 479 of 500\n",
      "building tree 480 of 500\n",
      "building tree 481 of 500\n",
      "building tree 482 of 500\n",
      "building tree 483 of 500\n",
      "building tree 484 of 500\n",
      "building tree 485 of 500\n",
      "building tree 486 of 500\n",
      "building tree 487 of 500\n",
      "building tree 488 of 500\n",
      "building tree 489 of 500\n",
      "building tree 490 of 500\n",
      "building tree 491 of 500\n",
      "building tree 492 of 500\n",
      "building tree 493 of 500\n",
      "building tree 494 of 500\n",
      "building tree 495 of 500\n",
      "building tree 496 of 500\n",
      "building tree 497 of 500\n",
      "building tree 498 of 500\n",
      "building tree 499 of 500\n",
      "building tree 500 of 500\n",
      " 1) average_artists_popularity 0.171916\n",
      " 2) genre           0.171191\n",
      " 3) sum_of_followers 0.106993\n",
      " 4) energy          0.062027\n",
      " 5) primary_artist_popularity 0.061845\n",
      " 6) danceability    0.058975\n",
      " 7) duration_ms     0.058395\n",
      " 8) valence         0.056261\n",
      " 9) speechiness     0.054360\n",
      "10) liveness        0.050155\n",
      "11) instrumentalness 0.046866\n",
      "12) fade_out_duration 0.046731\n",
      "13) n_beats         0.044673\n",
      "14) explicit        0.005052\n",
      "15) time_signature  0.004559\n"
     ]
    }
   ],
   "source": [
    "feat_labels = df.columns\n",
    "forest = RandomForestRegressor(n_estimators=500,\n",
    "                               verbose=2,\n",
    "                                random_state=1)\n",
    "\n",
    "forest.fit(X_trainForBestFeatures, y_trainForBestFeatures)\n",
    "\n",
    "# Most important features\n",
    "importances = forest.feature_importances_\n",
    "\n",
    "indices = np.argsort(importances)[::-1]\n",
    "\n",
    "for f in range(X_trainForBestFeatures.shape[1]):\n",
    "    print(\"%2d) %-*s %f\" % (f + 1, 15, \n",
    "                            feat_labels[indices[f]], \n",
    "                            importances[indices[f]]))"
   ]
  },
  {
   "cell_type": "markdown",
   "id": "f647dbec-45a3-48b2-b13d-2fb3be5f642c",
   "metadata": {},
   "source": [
    "### Features Importances"
   ]
  },
  {
   "cell_type": "code",
   "execution_count": 33,
   "id": "47cda570-a600-4dd6-a7d6-0160ac0b7ef4",
   "metadata": {},
   "outputs": [
    {
     "data": {
      "image/png": "[encoded data removed]",
      "text/plain": [
       "<Figure size 640x480 with 1 Axes>"
      ]
     },
     "metadata": {},
     "output_type": "display_data"
    }
   ],
   "source": [
    "colors =['blue' if 'primary_artist_popularity' in feat_labels[indices[i]] else\n",
    "        'red' if importances[indices[i]] >= 0.0589 else\n",
    "        'blue'\n",
    "         for i in range(len(feat_labels))]\n",
    "\n",
    "\n",
    "plt.title('Feature Importance')\n",
    "plt.bar(range(X_trainForBestFeatures.shape[1]), \n",
    "        importances[indices],\n",
    "        color = colors,\n",
    "        align='center')\n",
    "\n",
    "plt.xticks(range(X_trainForBestFeatures.shape[1]), \n",
    "           feat_labels[indices], rotation=90)\n",
    "plt.xlim([-1, X_trainForBestFeatures.shape[1]])\n",
    "plt.tight_layout()\n",
    "\n",
    "plt.show()"
   ]
  },
  {
   "cell_type": "markdown",
   "id": "4016a580-210c-4969-a6bd-cfa6467f6818",
   "metadata": {},
   "source": [
    "#### Models (12 Features)"
   ]
  },
  {
   "cell_type": "code",
   "execution_count": 91,
   "id": "b0e328d5-5f22-497b-82e5-ba7698774580",
   "metadata": {},
   "outputs": [
    {
     "name": "stdout",
     "output_type": "stream",
     "text": [
      "Training MSE: 122.4651\n",
      "Training R^2: 0.7313\n",
      "Val MSE: 239.0590\n",
      "Val R^2: 0.4802\n"
     ]
    }
   ],
   "source": [
    "# Best configuration\n",
    "\n",
    "from sklearn.metrics import mean_squared_error, r2_score\n",
    "\n",
    "# Define the regressor\n",
    "clf = RandomForestRegressor(n_estimators=1000,\n",
    "                             bootstrap= True,\n",
    "                             max_depth=30, \n",
    "                             min_samples_split=4, \n",
    "                             min_samples_leaf=3, \n",
    "                             min_weight_fraction_leaf=0.00015, \n",
    "                             random_state=42,\n",
    "                             oob_score=True,\n",
    "                             #verbose = 1,\n",
    "                             n_jobs=-1)\n",
    "\n",
    "# Training\n",
    "clf.fit(X_train, y_train)\n",
    "\n",
    "# Training evaluation\n",
    "y_pred_train = clf.predict(X_train)\n",
    "train_mse = mean_squared_error(y_train, y_pred_train)\n",
    "train_r2 = r2_score(y_train, y_pred_train)\n",
    "\n",
    "print('Training MSE: {:.4f}'.format(train_mse))\n",
    "print('Training R^2: {:.4f}'.format(train_r2))\n",
    "\n",
    "\n",
    "# validation\n",
    "y_pred_val= clf.predict(X_val)\n",
    "val_mse = mean_squared_error(y_val, y_pred_val)\n",
    "val_r2 = r2_score(y_val, y_pred_val)\n",
    "\n",
    "print('Val MSE: {:.4f}'.format(val_mse))\n",
    "print('Val R^2: {:.4f}'.format(val_r2))"
   ]
  },
  {
   "cell_type": "code",
   "execution_count": 92,
   "id": "5a25abac-7963-4e55-9300-6367ebab292d",
   "metadata": {},
   "outputs": [
    {
     "name": "stdout",
     "output_type": "stream",
     "text": [
      "Val MSE: 242.6163\n",
      "Val R^2: 0.4628\n"
     ]
    }
   ],
   "source": [
    "# Test\n",
    "y_pred_test= clf.predict(X_test_new)\n",
    "test_mse = mean_squared_error(y_test_new, y_pred_test)\n",
    "test_r2 = r2_score(y_test_new, y_pred_test)\n",
    "\n",
    "print('Val MSE: {:.4f}'.format(test_mse))\n",
    "print('Val R^2: {:.4f}'.format(test_r2))"
   ]
  },
  {
   "cell_type": "markdown",
   "id": "2d68bd6d-a410-46a2-a94b-1d6e30ae4e91",
   "metadata": {},
   "source": [
    "#### Models (3 Features)"
   ]
  },
  {
   "cell_type": "code",
   "execution_count": 106,
   "id": "b59bfa2a-ecbd-4efa-982a-adf501acb1ab",
   "metadata": {},
   "outputs": [
    {
     "name": "stdout",
     "output_type": "stream",
     "text": [
      "Training MSE: 179.1905\n",
      "Training R^2: 0.6068\n",
      "Val MSE: 230.2038\n",
      "Val R^2: 0.4994\n"
     ]
    }
   ],
   "source": [
    "# Best configuration\n",
    "from sklearn.metrics import mean_squared_error, r2_score\n",
    "\n",
    "# Define the regressor\n",
    "clf = RandomForestRegressor(n_estimators=1000,\n",
    "                             bootstrap= True,\n",
    "                             max_depth=20, \n",
    "                             min_samples_split=3, \n",
    "                             min_samples_leaf=1, \n",
    "                             min_weight_fraction_leaf=0.00015, \n",
    "                             random_state=42,\n",
    "                             oob_score=True,\n",
    "                             #verbose = 1,\n",
    "                             n_jobs=-1)\n",
    "\n",
    "# Training\n",
    "clf.fit(X_train_3, y_train_3)\n",
    "\n",
    "# Training evaluation\n",
    "y_pred_train_3 = clf.predict(X_train_3)\n",
    "train_mse_3 = mean_squared_error(y_train_3, y_pred_train_3)\n",
    "train_r2_3 = r2_score(y_train_3, y_pred_train_3)\n",
    "\n",
    "print('Training MSE: {:.4f}'.format(train_mse_3))\n",
    "print('Training R^2: {:.4f}'.format(train_r2_3))\n",
    "\n",
    "# validation\n",
    "y_pred_val_3= clf.predict(X_val_3)\n",
    "val_mse_3 = mean_squared_error(y_val_3, y_pred_val_3)\n",
    "val_r2_3 = r2_score(y_val_3, y_pred_val_3)\n",
    "\n",
    "print('Val MSE: {:.4f}'.format(val_mse_3))\n",
    "print('Val R^2: {:.4f}'.format(val_r2_3))"
   ]
  },
  {
   "cell_type": "code",
   "execution_count": 94,
   "id": "d6be0445-6502-465a-a3f6-ed110615f0bb",
   "metadata": {},
   "outputs": [
    {
     "name": "stdout",
     "output_type": "stream",
     "text": [
      "Val MSE: 234.8398\n",
      "Val R^2: 0.4801\n"
     ]
    }
   ],
   "source": [
    "# Test\n",
    "y_pred_test_3= clf.predict(X_test_new_3)\n",
    "test_mse_3 = mean_squared_error(y_test_new_3, y_pred_test_3)\n",
    "test_r2_3 = r2_score(y_test_new_3, y_pred_test_3)\n",
    "\n",
    "print('Val MSE: {:.4f}'.format(test_mse_3))\n",
    "print('Val R^2: {:.4f}'.format(test_r2_3))"
   ]
  },
  {
   "cell_type": "markdown",
   "id": "7b40565c-1db1-4157-b991-6b948b8be90a",
   "metadata": {},
   "source": [
    "#### Models (5 Features)"
   ]
  },
  {
   "cell_type": "code",
   "execution_count": 104,
   "id": "2e0a6f98-be10-4e8e-a4d4-0f6395cd616f",
   "metadata": {},
   "outputs": [
    {
     "name": "stderr",
     "output_type": "stream",
     "text": [
      "[Parallel(n_jobs=-1)]: Using backend ThreadingBackend with 16 concurrent workers.\n",
      "[Parallel(n_jobs=-1)]: Done  18 tasks      | elapsed:    0.6s\n",
      "[Parallel(n_jobs=-1)]: Done 168 tasks      | elapsed:    3.4s\n",
      "[Parallel(n_jobs=-1)]: Done 418 tasks      | elapsed:    8.1s\n",
      "[Parallel(n_jobs=-1)]: Done 768 tasks      | elapsed:   14.6s\n",
      "[Parallel(n_jobs=-1)]: Done 1000 out of 1000 | elapsed:   18.8s finished\n",
      "[Parallel(n_jobs=16)]: Using backend ThreadingBackend with 16 concurrent workers.\n",
      "[Parallel(n_jobs=16)]: Done  18 tasks      | elapsed:    0.0s\n",
      "[Parallel(n_jobs=16)]: Done 168 tasks      | elapsed:    0.0s\n",
      "[Parallel(n_jobs=16)]: Done 418 tasks      | elapsed:    0.2s\n",
      "[Parallel(n_jobs=16)]: Done 768 tasks      | elapsed:    0.5s\n",
      "[Parallel(n_jobs=16)]: Done 1000 out of 1000 | elapsed:    0.7s finished\n"
     ]
    },
    {
     "name": "stdout",
     "output_type": "stream",
     "text": [
      "Training MSE: 152.8409\n",
      "Training R^2: 0.6646\n"
     ]
    },
    {
     "name": "stderr",
     "output_type": "stream",
     "text": [
      "[Parallel(n_jobs=16)]: Using backend ThreadingBackend with 16 concurrent workers.\n",
      "[Parallel(n_jobs=16)]: Done  18 tasks      | elapsed:    0.0s\n",
      "[Parallel(n_jobs=16)]: Done 168 tasks      | elapsed:    0.0s\n",
      "[Parallel(n_jobs=16)]: Done 418 tasks      | elapsed:    0.1s\n"
     ]
    },
    {
     "name": "stdout",
     "output_type": "stream",
     "text": [
      "Val MSE: 233.6814\n",
      "Val R^2: 0.4919\n"
     ]
    },
    {
     "name": "stderr",
     "output_type": "stream",
     "text": [
      "[Parallel(n_jobs=16)]: Done 768 tasks      | elapsed:    0.2s\n",
      "[Parallel(n_jobs=16)]: Done 1000 out of 1000 | elapsed:    0.3s finished\n"
     ]
    }
   ],
   "source": [
    "# Best configuration\n",
    "from sklearn.metrics import mean_squared_error, r2_score\n",
    "\n",
    "# Define the regressor\n",
    "clf = RandomForestRegressor(n_estimators=1000,\n",
    "                             bootstrap= True,\n",
    "                             max_depth=20, \n",
    "                             min_samples_split=3, \n",
    "                             min_samples_leaf=1, \n",
    "                             min_weight_fraction_leaf=0.00015, \n",
    "                             random_state=42,\n",
    "                             oob_score=True,\n",
    "                             verbose = 1,\n",
    "                             n_jobs=-1)\n",
    "\n",
    "# Training\n",
    "clf.fit(X_train_5, y_train_5)\n",
    "\n",
    "# Training evaluation\n",
    "y_pred_train_5 = clf.predict(X_train_5)\n",
    "train_mse_5 = mean_squared_error(y_train_5, y_pred_train_5)\n",
    "train_r2_5 = r2_score(y_train_5, y_pred_train_5)\n",
    "\n",
    "print('Training MSE: {:.4f}'.format(train_mse_5))\n",
    "print('Training R^2: {:.4f}'.format(train_r2_5))\n",
    "\n",
    "# validation\n",
    "y_pred_val_5= clf.predict(X_val_5)\n",
    "val_mse_5 = mean_squared_error(y_val_5, y_pred_val_5)\n",
    "val_r2_5 = r2_score(y_val_5, y_pred_val_5)\n",
    "\n",
    "print('Val MSE: {:.4f}'.format(val_mse_5))\n",
    "print('Val R^2: {:.4f}'.format(val_r2_5))"
   ]
  },
  {
   "cell_type": "code",
   "execution_count": 105,
   "id": "753ff064-b8d2-4cd5-a428-c47fbcd219c8",
   "metadata": {},
   "outputs": [
    {
     "name": "stderr",
     "output_type": "stream",
     "text": [
      "[Parallel(n_jobs=16)]: Using backend ThreadingBackend with 16 concurrent workers.\n",
      "[Parallel(n_jobs=16)]: Done  18 tasks      | elapsed:    0.0s\n",
      "[Parallel(n_jobs=16)]: Done 168 tasks      | elapsed:    0.0s\n",
      "[Parallel(n_jobs=16)]: Done 418 tasks      | elapsed:    0.0s\n",
      "[Parallel(n_jobs=16)]: Done 768 tasks      | elapsed:    0.1s\n"
     ]
    },
    {
     "name": "stdout",
     "output_type": "stream",
     "text": [
      "Val MSE: 239.7836\n",
      "Val R^2: 0.4691\n"
     ]
    },
    {
     "name": "stderr",
     "output_type": "stream",
     "text": [
      "[Parallel(n_jobs=16)]: Done 1000 out of 1000 | elapsed:    0.1s finished\n"
     ]
    }
   ],
   "source": [
    "# Test\n",
    "y_pred_test_5= clf.predict(X_test_new_5)\n",
    "test_mse_5 = mean_squared_error(y_test_new_5, y_pred_test_5)\n",
    "test_r2_5 = r2_score(y_test_new_5, y_pred_test_5)\n",
    "\n",
    "print('Val MSE: {:.4f}'.format(test_mse_5))\n",
    "print('Val R^2: {:.4f}'.format(test_r2_5))"
   ]
  },
  {
   "cell_type": "code",
   "execution_count": 86,
   "id": "406d9a96-6c00-416b-81d9-2f19c799e798",
   "metadata": {},
   "outputs": [
    {
     "data": {
      "text/plain": [
       "5280"
      ]
     },
     "execution_count": 86,
     "metadata": {},
     "output_type": "execute_result"
    }
   ],
   "source": [
    "len(y_test_new)"
   ]
  },
  {
   "cell_type": "code",
   "execution_count": null,
   "id": "842b08fe-a831-431e-b905-814cd306f463",
   "metadata": {},
   "outputs": [],
   "source": [
    "Training MSE: 138.5636\n",
    "Training R^2: 0.6964\n",
    "Score of model: 0.6964\n",
    "Val MSE: 216.2979\n",
    "Val R^2: 0.5328\n",
    "Score of model: 0.5328\n",
    "\n",
    "\n",
    "from sklearn.metrics import mean_squared_error, r2_score\n",
    "\n",
    "# Define the regressor\n",
    "clf = RandomForestRegressor(n_estimators=1000,\n",
    "                             bootstrap= True,\n",
    "                             max_depth=30, \n",
    "                             min_samples_split=4, \n",
    "                             min_samples_leaf=3, \n",
    "                             min_weight_fraction_leaf=0.00015, \n",
    "                             random_state=42,\n",
    "                             oob_score=True,\n",
    "                             #verbose = 1,\n",
    "                             n_jobs=-1)\n",
    "\n",
    "# Training\n",
    "clf.fit(X2_train, y2_train)\n",
    "\n",
    "# Training evaluation\n",
    "y2_pred_train = clf.predict(X2_train)\n",
    "train_mse_2 = mean_squared_error(y2_train, y2_pred_train)\n",
    "train_r2_2 = r2_score(y2_train, y2_pred_train)\n",
    "#scoreOfModel_2 = clf.score(X2_train, y2_train)\n",
    "\n",
    "print('Training MSE: {:.4f}'.format(train_mse_2))\n",
    "print('Training R^2: {:.4f}'.format(train_r2_2))\n",
    "#print('Score of model: {:.4f}'.format(scoreOfModel))\n",
    "\n",
    "# test\n",
    "y2_pred_test= clf.predict(X2_test)\n",
    "test_mse_2 = mean_squared_error(y2_test, y2_pred_test)\n",
    "test_r2_2 = r2_score(y2_test, y2_pred_test)\n",
    "#scoreOfModelTest = clf.score(X2_test, y2_test)\n",
    "\n",
    "print('Val MSE: {:.4f}'.format(test_mse_2))\n",
    "print('Val R^2: {:.4f}'.format(test_r2_2))\n",
    "#print('Score of model: {:.4f}'.format(scoreOfModelTest))"
   ]
  },
  {
   "cell_type": "code",
   "execution_count": 483,
   "id": "b17bb40a-da43-4752-9436-7f2f2921d1f4",
   "metadata": {},
   "outputs": [
    {
     "name": "stderr",
     "output_type": "stream",
     "text": [
      "[Parallel(n_jobs=16)]: Using backend ThreadingBackend with 16 concurrent workers.\n",
      "[Parallel(n_jobs=16)]: Done  18 tasks      | elapsed:    0.0s\n",
      "[Parallel(n_jobs=16)]: Done 168 tasks      | elapsed:    0.0s\n",
      "[Parallel(n_jobs=16)]: Done 418 tasks      | elapsed:    0.1s\n",
      "[Parallel(n_jobs=16)]: Done 500 out of 500 | elapsed:    0.1s finished\n",
      "[Parallel(n_jobs=16)]: Using backend ThreadingBackend with 16 concurrent workers.\n",
      "[Parallel(n_jobs=16)]: Done  18 tasks      | elapsed:    0.0s\n",
      "[Parallel(n_jobs=16)]: Done 168 tasks      | elapsed:    0.0s\n"
     ]
    },
    {
     "name": "stdout",
     "output_type": "stream",
     "text": [
      "Val MSE: 225.0048\n",
      "Val R^2: 0.5057\n",
      "Score of model: 0.5057\n"
     ]
    },
    {
     "name": "stderr",
     "output_type": "stream",
     "text": [
      "[Parallel(n_jobs=16)]: Done 418 tasks      | elapsed:    0.1s\n",
      "[Parallel(n_jobs=16)]: Done 500 out of 500 | elapsed:    0.1s finished\n"
     ]
    }
   ],
   "source": [
    "# test\n",
    "y_pred_test= clf.predict(X_test_new)\n",
    "test_mse = mean_squared_error(y_test_new, y_pred_test)\n",
    "test_r2 = r2_score(y_test_new, y_pred_test)\n",
    "scoreOfModelTest = clf.score(X_test_new, y_test_new)\n",
    "\n",
    "print('Val MSE: {:.4f}'.format(test_mse))\n",
    "print('Val R^2: {:.4f}'.format(test_r2))\n",
    "print('Score of model: {:.4f}'.format(scoreOfModelTest))\n",
    "\n",
    "##### Best model so far"
   ]
  },
  {
   "cell_type": "code",
   "execution_count": 274,
   "id": "bd5f27d6-b4ec-4e6d-9bf2-e582a7c5f7d3",
   "metadata": {},
   "outputs": [
    {
     "data": {
      "image/png": "[encoded data removed]",
      "text/plain": [
       "<Figure size 640x480 with 1 Axes>"
      ]
     },
     "metadata": {},
     "output_type": "display_data"
    }
   ],
   "source": [
    "# Plot residuals vs predicted values\n",
    "plt.scatter(y_pred_test, abs(y_test - y_pred_test))\n",
    "plt.xlabel('Predicted values')\n",
    "plt.ylabel('Absolute Residuals')\n",
    "plt.title('Residual Plot with Absolute Values')\n",
    "plt.show()"
   ]
  },
  {
   "cell_type": "code",
   "execution_count": 229,
   "id": "6b2a2a6e-db41-43dd-a1d4-fd4beaa22d31",
   "metadata": {},
   "outputs": [
    {
     "data": {
      "image/png": "[encoded data removed]",
      "text/plain": [
       "<Figure size 640x480 with 1 Axes>"
      ]
     },
     "metadata": {},
     "output_type": "display_data"
    }
   ],
   "source": [
    "## Base regressor \n",
    "# Plot residuals vs predicted values\n",
    "plt.scatter(y_pred_test, abs(y_test - y_pred_test))\n",
    "plt.xlabel('Predicted values')\n",
    "plt.ylabel('Absolute Residuals')\n",
    "plt.title('Residual Plot with Absolute Values')\n",
    "plt.show()"
   ]
  },
  {
   "cell_type": "code",
   "execution_count": 278,
   "id": "c1b90b38-6b4f-4964-b502-de3559204da3",
   "metadata": {},
   "outputs": [
    {
     "data": {
      "image/png": "[encoded data removed]",
      "text/plain": [
       "<Figure size 640x480 with 1 Axes>"
      ]
     },
     "metadata": {},
     "output_type": "display_data"
    }
   ],
   "source": [
    "from sklearn.model_selection import learning_curve\n",
    "\n",
    "train_sizes, train_scores, test_scores, fit_times, _ = learning_curve(\n",
    "    clf, X, y, cv=2, n_jobs=-1, train_sizes=np.linspace(0.1, 1.0, 10),\n",
    "    scoring='r2', return_times=True)\n",
    "\n",
    "# Compute mean scores and std\n",
    "train_scores_mean = np.mean(train_scores, axis=1)\n",
    "train_scores_std = np.std(train_scores, axis=1)\n",
    "test_scores_mean = np.mean(test_scores, axis=1)\n",
    "test_scores_std = np.std(test_scores, axis=1)\n",
    "\n",
    "# Plot learning curves\n",
    "plt.figure()\n",
    "plt.title(\"Learning Curves\")\n",
    "plt.xlabel(\"Training examples\")\n",
    "plt.ylabel(\"Score\")\n",
    "\n",
    "plt.grid()\n",
    "\n",
    "plt.fill_between(train_sizes, train_scores_mean - train_scores_std,\n",
    "                 train_scores_mean + train_scores_std, alpha=0.1,\n",
    "                 color=\"r\")\n",
    "plt.fill_between(train_sizes, test_scores_mean - test_scores_std,\n",
    "                 test_scores_mean + test_scores_std, alpha=0.1, color=\"g\")\n",
    "plt.plot(train_sizes, train_scores_mean, 'o-', color=\"r\",\n",
    "         label=\"Training score\")\n",
    "plt.plot(train_sizes, test_scores_mean, 'o-', color=\"g\",\n",
    "         label=\"Cross-validation score\")\n",
    "\n",
    "plt.legend(loc=\"best\")\n",
    "plt.show()"
   ]
  },
  {
   "cell_type": "code",
   "execution_count": 275,
   "id": "5ddb4c15-c0a0-4198-80ec-087cb9d0da0d",
   "metadata": {},
   "outputs": [
    {
     "data": {
      "text/plain": [
       "[<matplotlib.lines.Line2D at 0x296439990d0>,\n",
       " <matplotlib.lines.Line2D at 0x296416cf7d0>]"
      ]
     },
     "execution_count": 275,
     "metadata": {},
     "output_type": "execute_result"
    },
    {
     "data": {
      "image/png": "[encoded data removed]",
      "text/plain": [
       "<Figure size 640x480 with 1 Axes>"
      ]
     },
     "metadata": {},
     "output_type": "display_data"
    }
   ],
   "source": [
    "popularity = []\n",
    "for pair in zip(y_test, y_pred_test):\n",
    "    popularity.append(pair)\n",
    "\n",
    "plt.plot(popularity)"
   ]
  },
  {
   "cell_type": "markdown",
   "id": "43fb28d8-d3e2-43f3-bd2d-914c7862d9c0",
   "metadata": {},
   "source": [
    "### XGB regression (Boosting)"
   ]
  },
  {
   "cell_type": "code",
   "execution_count": 10,
   "id": "9128f0f0-3035-4372-b2db-f08136fe96a1",
   "metadata": {},
   "outputs": [
    {
     "name": "stdout",
     "output_type": "stream",
     "text": [
      "Training MSE: 63.1954\n",
      "Training R^2: 0.8613\n",
      "Val MSE: 235.5607\n",
      "Val R^2: 0.4878\n",
      "Test MSE: 238.7211\n",
      "Test R^2: 0.4715\n"
     ]
    }
   ],
   "source": [
    "# Define the regressor\n",
    "clf = XGBRegressor(n_estimators=100,\n",
    "                   learning_rate=0.06,  # Similar to 'n_estimators' in Random Forest\n",
    "                   max_depth=15,       # Similar to 'max_depth' in Random Forest\n",
    "                   min_child_weight=1, # Similar to 'min_samples_leaf' in Random Forest\n",
    "                   reg_lambda=10,       # Similar to 'min_weight_fraction_leaf' in Random Forest\n",
    "                   subsample=1.0,      # Similar to 'bootstrap=True' in Random Forest\n",
    "                   colsample_bytree=1.0, \n",
    "                   random_state=42,\n",
    "                   verbosity=1,        # Similar to 'verbose=1' in Random Forest\n",
    "                   n_jobs=-1)    \n",
    "# Training\n",
    "clf.fit(X_train, y_train)\n",
    "\n",
    "# Training evaluation\n",
    "y_pred_train = clf.predict(X_train)\n",
    "train_mse = mean_squared_error(y_train, y_pred_train)\n",
    "train_r2 = r2_score(y_train, y_pred_train)\n",
    "print('Training MSE: {:.4f}'.format(train_mse))\n",
    "print('Training R^2: {:.4f}'.format(train_r2))\n",
    "\n",
    "# validation\n",
    "y_pred_val= clf.predict(X_val)\n",
    "val_mse = mean_squared_error(y_val, y_pred_val)\n",
    "val_r2 = r2_score(y_val, y_pred_val)\n",
    "\n",
    "print('Val MSE: {:.4f}'.format(val_mse))\n",
    "print('Val R^2: {:.4f}'.format(val_r2))\n",
    "\n",
    "# Test\n",
    "y_pred_test = clf.predict(X_test_new)\n",
    "test_mse = mean_squared_error(y_test_new, y_pred_test)\n",
    "test_r2 = r2_score(y_test_new, y_pred_test)\n",
    "print('Test MSE: {:.4f}'.format(test_mse))\n",
    "print('Test R^2: {:.4f}'.format(test_r2))"
   ]
  },
  {
   "cell_type": "code",
   "execution_count": 12,
   "id": "b675b8b5-dcf5-436b-af40-8301a8fa1dfe",
   "metadata": {},
   "outputs": [
    {
     "name": "stdout",
     "output_type": "stream",
     "text": [
      "Training MSE: 156.6976\n",
      "Training R^2: 0.6562\n",
      "Val MSE: 225.7373\n",
      "Val R^2: 0.5091\n",
      "Test MSE: 234.5145\n",
      "Test R^2: 0.4808\n"
     ]
    }
   ],
   "source": [
    "# Define the regressor\n",
    "clf = XGBRegressor(n_estimators=100,\n",
    "                   learning_rate=0.06,  # Similar to 'n_estimators' in Random Forest\n",
    "                   max_depth=15,       # Similar to 'max_depth' in Random Forest\n",
    "                   min_child_weight=1, # Similar to 'min_samples_leaf' in Random Forest\n",
    "                   reg_lambda=10,       # Similar to 'min_weight_fraction_leaf' in Random Forest\n",
    "                   subsample=1.0,      # Similar to 'bootstrap=True' in Random Forest\n",
    "                   colsample_bytree=1.0, \n",
    "                   random_state=42,\n",
    "                   verbosity=1,        # Similar to 'verbose=1' in Random Forest\n",
    "                   n_jobs=-1)    \n",
    "# Training\n",
    "clf.fit(X_train_3, y_train_3)\n",
    "\n",
    "# Training evaluation\n",
    "y_pred_train_3 = clf.predict(X_train_3)\n",
    "train_mse_3 = mean_squared_error(y_train_3, y_pred_train_3)\n",
    "train_r2_3 = r2_score(y_train_3, y_pred_train_3)\n",
    "print('Training MSE: {:.4f}'.format(train_mse_3))\n",
    "print('Training R^2: {:.4f}'.format(train_r2_3))\n",
    "\n",
    "# validation\n",
    "y_pred_val_3 = clf.predict(X_val_3)\n",
    "val_mse_3 = mean_squared_error(y_val_3, y_pred_val_3)\n",
    "val_r2_3 = r2_score(y_val_3, y_pred_val_3)\n",
    "\n",
    "print('Val MSE: {:.4f}'.format(val_mse_3))\n",
    "print('Val R^2: {:.4f}'.format(val_r2_3))\n",
    "\n",
    "# Test\n",
    "y_pred_test_3 = clf.predict(X_test_new_3)\n",
    "test_mse_3 = mean_squared_error(y_test_new_3, y_pred_test_3)\n",
    "test_r2_3 = r2_score(y_test_new_3, y_pred_test_3)\n",
    "print('Test MSE: {:.4f}'.format(test_mse_3))\n",
    "print('Test R^2: {:.4f}'.format(test_r2_3))"
   ]
  },
  {
   "cell_type": "code",
   "execution_count": 17,
   "id": "d4991d7c-ebad-4e7b-b522-8bee22af9a6e",
   "metadata": {},
   "outputs": [
    {
     "name": "stdout",
     "output_type": "stream",
     "text": [
      "Training MSE: 103.3019\n",
      "Training R^2: 0.7733\n",
      "Val MSE: 234.2175\n",
      "Val R^2: 0.4907\n",
      "Test MSE: 240.9128\n",
      "Test R^2: 0.4666\n"
     ]
    }
   ],
   "source": [
    "# Define the regressor\n",
    "clf = XGBRegressor(n_estimators=100,\n",
    "                   learning_rate=0.06,  # Similar to 'n_estimators' in Random Forest\n",
    "                   max_depth=15,       # Similar to 'max_depth' in Random Forest\n",
    "                   min_child_weight=1, # Similar to 'min_samples_leaf' in Random Forest\n",
    "                   reg_lambda=10,       # Similar to 'min_weight_fraction_leaf' in Random Forest\n",
    "                   #subsample=1.0,      # Similar to 'bootstrap=True' in Random Forest\n",
    "                   #colsample_bytree=1.0, \n",
    "                   random_state=42,\n",
    "                   verbosity=1,        # Similar to 'verbose=1' in Random Forest\n",
    "                   n_jobs=-1)    \n",
    "# Training\n",
    "clf.fit(X_train_5, y_train_5)\n",
    "\n",
    "# Training evaluation\n",
    "y_pred_train_5 = clf.predict(X_train_5)\n",
    "train_mse_5 = mean_squared_error(y_train_5, y_pred_train_5)\n",
    "train_r2_5 = r2_score(y_train_5, y_pred_train_5)\n",
    "print('Training MSE: {:.4f}'.format(train_mse_5))\n",
    "print('Training R^2: {:.4f}'.format(train_r2_5))\n",
    "\n",
    "# validation\n",
    "y_pred_val_5 = clf.predict(X_val_5)\n",
    "val_mse_5 = mean_squared_error(y_val_5, y_pred_val_5)\n",
    "val_r2_5 = r2_score(y_val_5, y_pred_val_5)\n",
    "\n",
    "print('Val MSE: {:.4f}'.format(val_mse_5))\n",
    "print('Val R^2: {:.4f}'.format(val_r2_5))\n",
    "\n",
    "# Test\n",
    "y_pred_test_5 = clf.predict(X_test_new_5)\n",
    "test_mse_5 = mean_squared_error(y_test_new_5, y_pred_test_5)\n",
    "test_r2_5 = r2_score(y_test_new_3, y_pred_test_5)\n",
    "print('Test MSE: {:.4f}'.format(test_mse_5))\n",
    "print('Test R^2: {:.4f}'.format(test_r2_5))"
   ]
  }
 ],
 "metadata": {
  "kernelspec": {
   "display_name": "Python 3 (ipykernel)",
   "language": "python",
   "name": "python3"
  },
  "language_info": {
   "codemirror_mode": {
    "name": "ipython",
    "version": 3
   },
   "file_extension": ".py",
   "mimetype": "text/x-python",
   "name": "python",
   "nbconvert_exporter": "python",
   "pygments_lexer": "ipython3",
   "version": "3.11.7"
  }
 },
 "nbformat": 4,
 "nbformat_minor": 5
}
